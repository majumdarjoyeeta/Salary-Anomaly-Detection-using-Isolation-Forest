{
 "cells": [
  {
   "cell_type": "code",
   "execution_count": 1,
   "id": "9565df40-b096-4b43-9b10-52c07eea4096",
   "metadata": {
    "id": "9565df40-b096-4b43-9b10-52c07eea4096"
   },
   "outputs": [],
   "source": [
    "import pandas as pd\n",
    "import numpy as np\n",
    "import matplotlib.pyplot as plt\n",
    "from sklearn.ensemble import IsolationForest"
   ]
  },
  {
   "cell_type": "code",
   "execution_count": 2,
   "id": "a3358c0c-ee61-4983-8553-2dbd71132941",
   "metadata": {
    "id": "a3358c0c-ee61-4983-8553-2dbd71132941",
    "outputId": "74155026-a4ea-452c-fef0-e70c53ca985f"
   },
   "outputs": [
    {
     "data": {
      "text/html": [
       "<div>\n",
       "<style scoped>\n",
       "    .dataframe tbody tr th:only-of-type {\n",
       "        vertical-align: middle;\n",
       "    }\n",
       "\n",
       "    .dataframe tbody tr th {\n",
       "        vertical-align: top;\n",
       "    }\n",
       "\n",
       "    .dataframe thead th {\n",
       "        text-align: right;\n",
       "    }\n",
       "</style>\n",
       "<table border=\"1\" class=\"dataframe\">\n",
       "  <thead>\n",
       "    <tr style=\"text-align: right;\">\n",
       "      <th></th>\n",
       "      <th>Salary_INR</th>\n",
       "      <th>Working_Hours</th>\n",
       "    </tr>\n",
       "  </thead>\n",
       "  <tbody>\n",
       "    <tr>\n",
       "      <th>0</th>\n",
       "      <td>Rs 562,178</td>\n",
       "      <td>42.54704387870132 hrs</td>\n",
       "    </tr>\n",
       "    <tr>\n",
       "      <th>1</th>\n",
       "      <td>Rs 965,500</td>\n",
       "      <td>47.84734761782484 hrs</td>\n",
       "    </tr>\n",
       "    <tr>\n",
       "      <th>2</th>\n",
       "      <td>Rs 812,396</td>\n",
       "      <td>44.88040447428418 hrs</td>\n",
       "    </tr>\n",
       "    <tr>\n",
       "      <th>3</th>\n",
       "      <td>Rs 719,061</td>\n",
       "      <td>37.44401640622144 hrs</td>\n",
       "    </tr>\n",
       "    <tr>\n",
       "      <th>4</th>\n",
       "      <td>Rs 409,213</td>\n",
       "      <td>36.058531211006446 hrs</td>\n",
       "    </tr>\n",
       "    <tr>\n",
       "      <th>...</th>\n",
       "      <td>...</td>\n",
       "      <td>...</td>\n",
       "    </tr>\n",
       "    <tr>\n",
       "      <th>495</th>\n",
       "      <td>NaN</td>\n",
       "      <td>17.326565866130732 hrs</td>\n",
       "    </tr>\n",
       "    <tr>\n",
       "      <th>496</th>\n",
       "      <td>Rs 347,514</td>\n",
       "      <td>83.38508603697943 hrs</td>\n",
       "    </tr>\n",
       "    <tr>\n",
       "      <th>497</th>\n",
       "      <td>Rs 2,990,935</td>\n",
       "      <td>20.945490473516912 hrs</td>\n",
       "    </tr>\n",
       "    <tr>\n",
       "      <th>498</th>\n",
       "      <td>Rs 1,556,366</td>\n",
       "      <td>NaN</td>\n",
       "    </tr>\n",
       "    <tr>\n",
       "      <th>499</th>\n",
       "      <td>Rs 1,826,617</td>\n",
       "      <td>45.68046183663646 hrs</td>\n",
       "    </tr>\n",
       "  </tbody>\n",
       "</table>\n",
       "<p>500 rows × 2 columns</p>\n",
       "</div>"
      ],
      "text/plain": [
       "       Salary_INR           Working_Hours\n",
       "0      Rs 562,178   42.54704387870132 hrs\n",
       "1      Rs 965,500   47.84734761782484 hrs\n",
       "2      Rs 812,396   44.88040447428418 hrs\n",
       "3      Rs 719,061   37.44401640622144 hrs\n",
       "4      Rs 409,213  36.058531211006446 hrs\n",
       "..            ...                     ...\n",
       "495           NaN  17.326565866130732 hrs\n",
       "496    Rs 347,514   83.38508603697943 hrs\n",
       "497  Rs 2,990,935  20.945490473516912 hrs\n",
       "498  Rs 1,556,366                     NaN\n",
       "499  Rs 1,826,617   45.68046183663646 hrs\n",
       "\n",
       "[500 rows x 2 columns]"
      ]
     },
     "execution_count": 2,
     "metadata": {},
     "output_type": "execute_result"
    }
   ],
   "source": [
    "# Load the dataset\n",
    "data = pd.read_csv(\"salary_anomaly_dataset_modified.csv\")\n",
    "data"
   ]
  },
  {
   "cell_type": "code",
   "execution_count": 3,
   "id": "2b62d117-447d-4b59-adb5-8f179520a2b4",
   "metadata": {
    "id": "2b62d117-447d-4b59-adb5-8f179520a2b4",
    "outputId": "f9c9327a-bf34-4edd-802b-c3f4114d9989"
   },
   "outputs": [
    {
     "data": {
      "text/plain": [
       "Salary_INR       25\n",
       "Working_Hours    25\n",
       "dtype: int64"
      ]
     },
     "execution_count": 3,
     "metadata": {},
     "output_type": "execute_result"
    }
   ],
   "source": [
    "data.isnull().sum()"
   ]
  },
  {
   "cell_type": "code",
   "execution_count": 4,
   "id": "0723af48-72ef-4b33-ab99-6a0dc028e6bb",
   "metadata": {
    "id": "0723af48-72ef-4b33-ab99-6a0dc028e6bb"
   },
   "outputs": [],
   "source": [
    "df=data.dropna()"
   ]
  },
  {
   "cell_type": "code",
   "execution_count": 5,
   "id": "40692cd3-1656-449f-95f4-9c052f497855",
   "metadata": {
    "id": "40692cd3-1656-449f-95f4-9c052f497855",
    "outputId": "2bc2769b-06ce-445a-a20a-99c926b4998c"
   },
   "outputs": [
    {
     "data": {
      "text/html": [
       "<div>\n",
       "<style scoped>\n",
       "    .dataframe tbody tr th:only-of-type {\n",
       "        vertical-align: middle;\n",
       "    }\n",
       "\n",
       "    .dataframe tbody tr th {\n",
       "        vertical-align: top;\n",
       "    }\n",
       "\n",
       "    .dataframe thead th {\n",
       "        text-align: right;\n",
       "    }\n",
       "</style>\n",
       "<table border=\"1\" class=\"dataframe\">\n",
       "  <thead>\n",
       "    <tr style=\"text-align: right;\">\n",
       "      <th></th>\n",
       "      <th>Salary_INR</th>\n",
       "      <th>Working_Hours</th>\n",
       "    </tr>\n",
       "  </thead>\n",
       "  <tbody>\n",
       "    <tr>\n",
       "      <th>0</th>\n",
       "      <td>Rs 562,178</td>\n",
       "      <td>42.54704387870132 hrs</td>\n",
       "    </tr>\n",
       "    <tr>\n",
       "      <th>1</th>\n",
       "      <td>Rs 965,500</td>\n",
       "      <td>47.84734761782484 hrs</td>\n",
       "    </tr>\n",
       "    <tr>\n",
       "      <th>2</th>\n",
       "      <td>Rs 812,396</td>\n",
       "      <td>44.88040447428418 hrs</td>\n",
       "    </tr>\n",
       "    <tr>\n",
       "      <th>3</th>\n",
       "      <td>Rs 719,061</td>\n",
       "      <td>37.44401640622144 hrs</td>\n",
       "    </tr>\n",
       "    <tr>\n",
       "      <th>4</th>\n",
       "      <td>Rs 409,213</td>\n",
       "      <td>36.058531211006446 hrs</td>\n",
       "    </tr>\n",
       "    <tr>\n",
       "      <th>...</th>\n",
       "      <td>...</td>\n",
       "      <td>...</td>\n",
       "    </tr>\n",
       "    <tr>\n",
       "      <th>492</th>\n",
       "      <td>Rs 616,304</td>\n",
       "      <td>31.77161097839701 hrs</td>\n",
       "    </tr>\n",
       "    <tr>\n",
       "      <th>493</th>\n",
       "      <td>Rs 2,887,104</td>\n",
       "      <td>57.21845334952697 hrs</td>\n",
       "    </tr>\n",
       "    <tr>\n",
       "      <th>496</th>\n",
       "      <td>Rs 347,514</td>\n",
       "      <td>83.38508603697943 hrs</td>\n",
       "    </tr>\n",
       "    <tr>\n",
       "      <th>497</th>\n",
       "      <td>Rs 2,990,935</td>\n",
       "      <td>20.945490473516912 hrs</td>\n",
       "    </tr>\n",
       "    <tr>\n",
       "      <th>499</th>\n",
       "      <td>Rs 1,826,617</td>\n",
       "      <td>45.68046183663646 hrs</td>\n",
       "    </tr>\n",
       "  </tbody>\n",
       "</table>\n",
       "<p>454 rows × 2 columns</p>\n",
       "</div>"
      ],
      "text/plain": [
       "       Salary_INR           Working_Hours\n",
       "0      Rs 562,178   42.54704387870132 hrs\n",
       "1      Rs 965,500   47.84734761782484 hrs\n",
       "2      Rs 812,396   44.88040447428418 hrs\n",
       "3      Rs 719,061   37.44401640622144 hrs\n",
       "4      Rs 409,213  36.058531211006446 hrs\n",
       "..            ...                     ...\n",
       "492    Rs 616,304   31.77161097839701 hrs\n",
       "493  Rs 2,887,104   57.21845334952697 hrs\n",
       "496    Rs 347,514   83.38508603697943 hrs\n",
       "497  Rs 2,990,935  20.945490473516912 hrs\n",
       "499  Rs 1,826,617   45.68046183663646 hrs\n",
       "\n",
       "[454 rows x 2 columns]"
      ]
     },
     "execution_count": 5,
     "metadata": {},
     "output_type": "execute_result"
    }
   ],
   "source": [
    "df"
   ]
  },
  {
   "cell_type": "code",
   "execution_count": 6,
   "id": "76c2d957-6173-4f2c-a802-91814d1890fc",
   "metadata": {
    "id": "76c2d957-6173-4f2c-a802-91814d1890fc",
    "outputId": "bdfe09f1-a8f7-4cba-da86-1ee1e366ff8d"
   },
   "outputs": [
    {
     "data": {
      "text/plain": [
       "Salary_INR       0\n",
       "Working_Hours    0\n",
       "dtype: int64"
      ]
     },
     "execution_count": 6,
     "metadata": {},
     "output_type": "execute_result"
    }
   ],
   "source": [
    "df.isnull().sum()"
   ]
  },
  {
   "cell_type": "code",
   "execution_count": 7,
   "id": "52122638-13b1-4397-a8c8-6a4227f30e46",
   "metadata": {
    "id": "52122638-13b1-4397-a8c8-6a4227f30e46",
    "outputId": "c6e08cd8-5e72-486b-ebdc-cdabbb153bba"
   },
   "outputs": [
    {
     "data": {
      "text/html": [
       "<div>\n",
       "<style scoped>\n",
       "    .dataframe tbody tr th:only-of-type {\n",
       "        vertical-align: middle;\n",
       "    }\n",
       "\n",
       "    .dataframe tbody tr th {\n",
       "        vertical-align: top;\n",
       "    }\n",
       "\n",
       "    .dataframe thead th {\n",
       "        text-align: right;\n",
       "    }\n",
       "</style>\n",
       "<table border=\"1\" class=\"dataframe\">\n",
       "  <thead>\n",
       "    <tr style=\"text-align: right;\">\n",
       "      <th></th>\n",
       "      <th>Salary_INR</th>\n",
       "      <th>Working_Hours</th>\n",
       "    </tr>\n",
       "  </thead>\n",
       "  <tbody>\n",
       "    <tr>\n",
       "      <th>count</th>\n",
       "      <td>454</td>\n",
       "      <td>454</td>\n",
       "    </tr>\n",
       "    <tr>\n",
       "      <th>unique</th>\n",
       "      <td>454</td>\n",
       "      <td>454</td>\n",
       "    </tr>\n",
       "    <tr>\n",
       "      <th>top</th>\n",
       "      <td>Rs 1,826,617</td>\n",
       "      <td>45.68046183663646 hrs</td>\n",
       "    </tr>\n",
       "    <tr>\n",
       "      <th>freq</th>\n",
       "      <td>1</td>\n",
       "      <td>1</td>\n",
       "    </tr>\n",
       "  </tbody>\n",
       "</table>\n",
       "</div>"
      ],
      "text/plain": [
       "          Salary_INR          Working_Hours\n",
       "count            454                    454\n",
       "unique           454                    454\n",
       "top     Rs 1,826,617  45.68046183663646 hrs\n",
       "freq               1                      1"
      ]
     },
     "execution_count": 7,
     "metadata": {},
     "output_type": "execute_result"
    }
   ],
   "source": [
    "df.describe()"
   ]
  },
  {
   "cell_type": "code",
   "execution_count": 8,
   "id": "e72820b8-5d65-43e3-bec6-50169926f553",
   "metadata": {
    "id": "e72820b8-5d65-43e3-bec6-50169926f553",
    "outputId": "82f01b26-56ef-4f4c-ba51-a016b5e4f5a4"
   },
   "outputs": [
    {
     "name": "stdout",
     "output_type": "stream",
     "text": [
      "<class 'pandas.core.frame.DataFrame'>\n",
      "Index: 454 entries, 0 to 499\n",
      "Data columns (total 2 columns):\n",
      " #   Column         Non-Null Count  Dtype \n",
      "---  ------         --------------  ----- \n",
      " 0   Salary_INR     454 non-null    object\n",
      " 1   Working_Hours  454 non-null    object\n",
      "dtypes: object(2)\n",
      "memory usage: 10.6+ KB\n"
     ]
    }
   ],
   "source": [
    "df.info()"
   ]
  },
  {
   "cell_type": "code",
   "execution_count": 9,
   "id": "9d20220c-6366-4917-b2c9-8deabf4066d7",
   "metadata": {
    "id": "9d20220c-6366-4917-b2c9-8deabf4066d7",
    "outputId": "a6512e81-57b1-47ec-b545-7b7bc3c2e881"
   },
   "outputs": [
    {
     "name": "stderr",
     "output_type": "stream",
     "text": [
      "C:\\Users\\JOYEETA\\AppData\\Local\\Temp\\ipykernel_16048\\1736762214.py:2: SettingWithCopyWarning: \n",
      "A value is trying to be set on a copy of a slice from a DataFrame.\n",
      "Try using .loc[row_indexer,col_indexer] = value instead\n",
      "\n",
      "See the caveats in the documentation: https://pandas.pydata.org/pandas-docs/stable/user_guide/indexing.html#returning-a-view-versus-a-copy\n",
      "  df['Salary_INR'] = df['Salary_INR'].astype(str).str.replace('Rs', '', regex=True)\n",
      "C:\\Users\\JOYEETA\\AppData\\Local\\Temp\\ipykernel_16048\\1736762214.py:3: SettingWithCopyWarning: \n",
      "A value is trying to be set on a copy of a slice from a DataFrame.\n",
      "Try using .loc[row_indexer,col_indexer] = value instead\n",
      "\n",
      "See the caveats in the documentation: https://pandas.pydata.org/pandas-docs/stable/user_guide/indexing.html#returning-a-view-versus-a-copy\n",
      "  df['Salary_INR'] = df['Salary_INR'].str.replace(',', '', regex=True).astype(float)\n"
     ]
    },
    {
     "data": {
      "text/html": [
       "<div>\n",
       "<style scoped>\n",
       "    .dataframe tbody tr th:only-of-type {\n",
       "        vertical-align: middle;\n",
       "    }\n",
       "\n",
       "    .dataframe tbody tr th {\n",
       "        vertical-align: top;\n",
       "    }\n",
       "\n",
       "    .dataframe thead th {\n",
       "        text-align: right;\n",
       "    }\n",
       "</style>\n",
       "<table border=\"1\" class=\"dataframe\">\n",
       "  <thead>\n",
       "    <tr style=\"text-align: right;\">\n",
       "      <th></th>\n",
       "      <th>Salary_INR</th>\n",
       "      <th>Working_Hours</th>\n",
       "    </tr>\n",
       "  </thead>\n",
       "  <tbody>\n",
       "    <tr>\n",
       "      <th>0</th>\n",
       "      <td>562178.0</td>\n",
       "      <td>42.54704387870132 hrs</td>\n",
       "    </tr>\n",
       "    <tr>\n",
       "      <th>1</th>\n",
       "      <td>965500.0</td>\n",
       "      <td>47.84734761782484 hrs</td>\n",
       "    </tr>\n",
       "    <tr>\n",
       "      <th>2</th>\n",
       "      <td>812396.0</td>\n",
       "      <td>44.88040447428418 hrs</td>\n",
       "    </tr>\n",
       "    <tr>\n",
       "      <th>3</th>\n",
       "      <td>719061.0</td>\n",
       "      <td>37.44401640622144 hrs</td>\n",
       "    </tr>\n",
       "    <tr>\n",
       "      <th>4</th>\n",
       "      <td>409213.0</td>\n",
       "      <td>36.058531211006446 hrs</td>\n",
       "    </tr>\n",
       "    <tr>\n",
       "      <th>...</th>\n",
       "      <td>...</td>\n",
       "      <td>...</td>\n",
       "    </tr>\n",
       "    <tr>\n",
       "      <th>492</th>\n",
       "      <td>616304.0</td>\n",
       "      <td>31.77161097839701 hrs</td>\n",
       "    </tr>\n",
       "    <tr>\n",
       "      <th>493</th>\n",
       "      <td>2887104.0</td>\n",
       "      <td>57.21845334952697 hrs</td>\n",
       "    </tr>\n",
       "    <tr>\n",
       "      <th>496</th>\n",
       "      <td>347514.0</td>\n",
       "      <td>83.38508603697943 hrs</td>\n",
       "    </tr>\n",
       "    <tr>\n",
       "      <th>497</th>\n",
       "      <td>2990935.0</td>\n",
       "      <td>20.945490473516912 hrs</td>\n",
       "    </tr>\n",
       "    <tr>\n",
       "      <th>499</th>\n",
       "      <td>1826617.0</td>\n",
       "      <td>45.68046183663646 hrs</td>\n",
       "    </tr>\n",
       "  </tbody>\n",
       "</table>\n",
       "<p>454 rows × 2 columns</p>\n",
       "</div>"
      ],
      "text/plain": [
       "     Salary_INR           Working_Hours\n",
       "0      562178.0   42.54704387870132 hrs\n",
       "1      965500.0   47.84734761782484 hrs\n",
       "2      812396.0   44.88040447428418 hrs\n",
       "3      719061.0   37.44401640622144 hrs\n",
       "4      409213.0  36.058531211006446 hrs\n",
       "..          ...                     ...\n",
       "492    616304.0   31.77161097839701 hrs\n",
       "493   2887104.0   57.21845334952697 hrs\n",
       "496    347514.0   83.38508603697943 hrs\n",
       "497   2990935.0  20.945490473516912 hrs\n",
       "499   1826617.0   45.68046183663646 hrs\n",
       "\n",
       "[454 rows x 2 columns]"
      ]
     },
     "execution_count": 9,
     "metadata": {},
     "output_type": "execute_result"
    }
   ],
   "source": [
    "# Cleaning Salary column (removing 'Rs', ',' and converting to numeric)\n",
    "df['Salary_INR'] = df['Salary_INR'].astype(str).str.replace('Rs', '', regex=True)\n",
    "df['Salary_INR'] = df['Salary_INR'].str.replace(',', '', regex=True).astype(float)\n",
    "df"
   ]
  },
  {
   "cell_type": "code",
   "execution_count": 10,
   "id": "6e0d90a8-e613-40c5-a7f1-4bf25af3778f",
   "metadata": {
    "id": "6e0d90a8-e613-40c5-a7f1-4bf25af3778f",
    "outputId": "fb3252eb-7e72-447a-b588-14d4fcc1a09c"
   },
   "outputs": [
    {
     "name": "stderr",
     "output_type": "stream",
     "text": [
      "C:\\Users\\JOYEETA\\AppData\\Local\\Temp\\ipykernel_16048\\2112406232.py:2: SettingWithCopyWarning: \n",
      "A value is trying to be set on a copy of a slice from a DataFrame.\n",
      "Try using .loc[row_indexer,col_indexer] = value instead\n",
      "\n",
      "See the caveats in the documentation: https://pandas.pydata.org/pandas-docs/stable/user_guide/indexing.html#returning-a-view-versus-a-copy\n",
      "  df['Working_Hours'] = df['Working_Hours'].astype(str).str.replace('hrs', '', regex=True).astype(float)\n"
     ]
    },
    {
     "data": {
      "text/html": [
       "<div>\n",
       "<style scoped>\n",
       "    .dataframe tbody tr th:only-of-type {\n",
       "        vertical-align: middle;\n",
       "    }\n",
       "\n",
       "    .dataframe tbody tr th {\n",
       "        vertical-align: top;\n",
       "    }\n",
       "\n",
       "    .dataframe thead th {\n",
       "        text-align: right;\n",
       "    }\n",
       "</style>\n",
       "<table border=\"1\" class=\"dataframe\">\n",
       "  <thead>\n",
       "    <tr style=\"text-align: right;\">\n",
       "      <th></th>\n",
       "      <th>Salary_INR</th>\n",
       "      <th>Working_Hours</th>\n",
       "    </tr>\n",
       "  </thead>\n",
       "  <tbody>\n",
       "    <tr>\n",
       "      <th>0</th>\n",
       "      <td>562178.0</td>\n",
       "      <td>42.547044</td>\n",
       "    </tr>\n",
       "    <tr>\n",
       "      <th>1</th>\n",
       "      <td>965500.0</td>\n",
       "      <td>47.847348</td>\n",
       "    </tr>\n",
       "    <tr>\n",
       "      <th>2</th>\n",
       "      <td>812396.0</td>\n",
       "      <td>44.880404</td>\n",
       "    </tr>\n",
       "    <tr>\n",
       "      <th>3</th>\n",
       "      <td>719061.0</td>\n",
       "      <td>37.444016</td>\n",
       "    </tr>\n",
       "    <tr>\n",
       "      <th>4</th>\n",
       "      <td>409213.0</td>\n",
       "      <td>36.058531</td>\n",
       "    </tr>\n",
       "    <tr>\n",
       "      <th>...</th>\n",
       "      <td>...</td>\n",
       "      <td>...</td>\n",
       "    </tr>\n",
       "    <tr>\n",
       "      <th>492</th>\n",
       "      <td>616304.0</td>\n",
       "      <td>31.771611</td>\n",
       "    </tr>\n",
       "    <tr>\n",
       "      <th>493</th>\n",
       "      <td>2887104.0</td>\n",
       "      <td>57.218453</td>\n",
       "    </tr>\n",
       "    <tr>\n",
       "      <th>496</th>\n",
       "      <td>347514.0</td>\n",
       "      <td>83.385086</td>\n",
       "    </tr>\n",
       "    <tr>\n",
       "      <th>497</th>\n",
       "      <td>2990935.0</td>\n",
       "      <td>20.945490</td>\n",
       "    </tr>\n",
       "    <tr>\n",
       "      <th>499</th>\n",
       "      <td>1826617.0</td>\n",
       "      <td>45.680462</td>\n",
       "    </tr>\n",
       "  </tbody>\n",
       "</table>\n",
       "<p>454 rows × 2 columns</p>\n",
       "</div>"
      ],
      "text/plain": [
       "     Salary_INR  Working_Hours\n",
       "0      562178.0      42.547044\n",
       "1      965500.0      47.847348\n",
       "2      812396.0      44.880404\n",
       "3      719061.0      37.444016\n",
       "4      409213.0      36.058531\n",
       "..          ...            ...\n",
       "492    616304.0      31.771611\n",
       "493   2887104.0      57.218453\n",
       "496    347514.0      83.385086\n",
       "497   2990935.0      20.945490\n",
       "499   1826617.0      45.680462\n",
       "\n",
       "[454 rows x 2 columns]"
      ]
     },
     "execution_count": 10,
     "metadata": {},
     "output_type": "execute_result"
    }
   ],
   "source": [
    "# Cleaning Working Hours column (removing 'hrs' and converting to float)\n",
    "df['Working_Hours'] = df['Working_Hours'].astype(str).str.replace('hrs', '', regex=True).astype(float)\n",
    "df"
   ]
  },
  {
   "cell_type": "code",
   "execution_count": 11,
   "id": "d68900ec-11e3-4759-aa8b-461d141d441b",
   "metadata": {
    "id": "d68900ec-11e3-4759-aa8b-461d141d441b",
    "outputId": "6fad0b97-a447-4a6a-d19a-6c26757428b2"
   },
   "outputs": [
    {
     "data": {
      "text/plain": [
       "np.float64(42.54704387870132)"
      ]
     },
     "execution_count": 11,
     "metadata": {},
     "output_type": "execute_result"
    }
   ],
   "source": [
    "df['Working_Hours'].iloc[0]"
   ]
  },
  {
   "cell_type": "code",
   "execution_count": 12,
   "id": "c20f6121-e253-48bf-b4cf-55675f3dd69e",
   "metadata": {
    "id": "c20f6121-e253-48bf-b4cf-55675f3dd69e",
    "outputId": "948eda65-7f20-4bc5-a56a-31e5b032ef4f"
   },
   "outputs": [
    {
     "name": "stdout",
     "output_type": "stream",
     "text": [
      "<class 'pandas.core.frame.DataFrame'>\n",
      "Index: 454 entries, 0 to 499\n",
      "Data columns (total 2 columns):\n",
      " #   Column         Non-Null Count  Dtype  \n",
      "---  ------         --------------  -----  \n",
      " 0   Salary_INR     454 non-null    float64\n",
      " 1   Working_Hours  454 non-null    float64\n",
      "dtypes: float64(2)\n",
      "memory usage: 10.6 KB\n"
     ]
    }
   ],
   "source": [
    "df.info()"
   ]
  },
  {
   "cell_type": "code",
   "execution_count": 13,
   "id": "dd431f91-4121-4934-97fe-53a5f457f957",
   "metadata": {
    "id": "dd431f91-4121-4934-97fe-53a5f457f957",
    "outputId": "61d2f3a1-bca1-4000-f893-6de7f3363a68"
   },
   "outputs": [
    {
     "name": "stderr",
     "output_type": "stream",
     "text": [
      "C:\\Users\\JOYEETA\\AppData\\Local\\Temp\\ipykernel_16048\\2346733392.py:2: SettingWithCopyWarning: \n",
      "A value is trying to be set on a copy of a slice from a DataFrame.\n",
      "Try using .loc[row_indexer,col_indexer] = value instead\n",
      "\n",
      "See the caveats in the documentation: https://pandas.pydata.org/pandas-docs/stable/user_guide/indexing.html#returning-a-view-versus-a-copy\n",
      "  df['Working_Hours'] = df['Working_Hours'].round(2)\n"
     ]
    },
    {
     "data": {
      "text/html": [
       "<div>\n",
       "<style scoped>\n",
       "    .dataframe tbody tr th:only-of-type {\n",
       "        vertical-align: middle;\n",
       "    }\n",
       "\n",
       "    .dataframe tbody tr th {\n",
       "        vertical-align: top;\n",
       "    }\n",
       "\n",
       "    .dataframe thead th {\n",
       "        text-align: right;\n",
       "    }\n",
       "</style>\n",
       "<table border=\"1\" class=\"dataframe\">\n",
       "  <thead>\n",
       "    <tr style=\"text-align: right;\">\n",
       "      <th></th>\n",
       "      <th>Salary_INR</th>\n",
       "      <th>Working_Hours</th>\n",
       "    </tr>\n",
       "  </thead>\n",
       "  <tbody>\n",
       "    <tr>\n",
       "      <th>0</th>\n",
       "      <td>562178.0</td>\n",
       "      <td>42.55</td>\n",
       "    </tr>\n",
       "    <tr>\n",
       "      <th>1</th>\n",
       "      <td>965500.0</td>\n",
       "      <td>47.85</td>\n",
       "    </tr>\n",
       "    <tr>\n",
       "      <th>2</th>\n",
       "      <td>812396.0</td>\n",
       "      <td>44.88</td>\n",
       "    </tr>\n",
       "    <tr>\n",
       "      <th>3</th>\n",
       "      <td>719061.0</td>\n",
       "      <td>37.44</td>\n",
       "    </tr>\n",
       "    <tr>\n",
       "      <th>4</th>\n",
       "      <td>409213.0</td>\n",
       "      <td>36.06</td>\n",
       "    </tr>\n",
       "    <tr>\n",
       "      <th>...</th>\n",
       "      <td>...</td>\n",
       "      <td>...</td>\n",
       "    </tr>\n",
       "    <tr>\n",
       "      <th>492</th>\n",
       "      <td>616304.0</td>\n",
       "      <td>31.77</td>\n",
       "    </tr>\n",
       "    <tr>\n",
       "      <th>493</th>\n",
       "      <td>2887104.0</td>\n",
       "      <td>57.22</td>\n",
       "    </tr>\n",
       "    <tr>\n",
       "      <th>496</th>\n",
       "      <td>347514.0</td>\n",
       "      <td>83.39</td>\n",
       "    </tr>\n",
       "    <tr>\n",
       "      <th>497</th>\n",
       "      <td>2990935.0</td>\n",
       "      <td>20.95</td>\n",
       "    </tr>\n",
       "    <tr>\n",
       "      <th>499</th>\n",
       "      <td>1826617.0</td>\n",
       "      <td>45.68</td>\n",
       "    </tr>\n",
       "  </tbody>\n",
       "</table>\n",
       "<p>454 rows × 2 columns</p>\n",
       "</div>"
      ],
      "text/plain": [
       "     Salary_INR  Working_Hours\n",
       "0      562178.0          42.55\n",
       "1      965500.0          47.85\n",
       "2      812396.0          44.88\n",
       "3      719061.0          37.44\n",
       "4      409213.0          36.06\n",
       "..          ...            ...\n",
       "492    616304.0          31.77\n",
       "493   2887104.0          57.22\n",
       "496    347514.0          83.39\n",
       "497   2990935.0          20.95\n",
       "499   1826617.0          45.68\n",
       "\n",
       "[454 rows x 2 columns]"
      ]
     },
     "execution_count": 13,
     "metadata": {},
     "output_type": "execute_result"
    }
   ],
   "source": [
    "# Ensure Working Hours has only 2 decimal places\n",
    "df['Working_Hours'] = df['Working_Hours'].round(2)\n",
    "df"
   ]
  },
  {
   "cell_type": "code",
   "execution_count": 14,
   "id": "e421c70f-de21-4989-a5ec-a40462a749b4",
   "metadata": {
    "id": "e421c70f-de21-4989-a5ec-a40462a749b4",
    "outputId": "5209ad24-2fd3-410d-89cf-8cdb1c2666d6"
   },
   "outputs": [
    {
     "data": {
      "image/png": "[encoded data removed]",
      "text/plain": [
       "<Figure size 1000x600 with 1 Axes>"
      ]
     },
     "metadata": {},
     "output_type": "display_data"
    }
   ],
   "source": [
    "# 📌 Plot 1: Original Data Distribution (Before Anomaly Detection)\n",
    "plt.figure(figsize=(10, 6))\n",
    "plt.scatter(df['Salary_INR'], df['Working_Hours'],  color=\"blue\",alpha=0.6)\n",
    "plt.xlabel(\"Salary (INR)\")\n",
    "plt.ylabel(\"Working Hours per Week\")\n",
    "plt.title(\"Original Data Distribution (Before Anomaly Detection)\")\n",
    "plt.show()"
   ]
  },
  {
   "cell_type": "markdown",
   "id": "336cc00a-8771-4061-a241-070010d44b84",
   "metadata": {
    "id": "336cc00a-8771-4061-a241-070010d44b84"
   },
   "source": [
    "### Method 1 to detect Anomalies"
   ]
  },
  {
   "cell_type": "code",
   "execution_count": 15,
   "id": "db438808-9e0b-4dbc-bbff-77eaf2d972b1",
   "metadata": {
    "id": "db438808-9e0b-4dbc-bbff-77eaf2d972b1",
    "outputId": "995600d5-215e-4621-e173-0aa36be46241"
   },
   "outputs": [
    {
     "name": "stderr",
     "output_type": "stream",
     "text": [
      "C:\\Users\\JOYEETA\\AppData\\Local\\Temp\\ipykernel_16048\\771146131.py:3: SettingWithCopyWarning: \n",
      "A value is trying to be set on a copy of a slice from a DataFrame.\n",
      "Try using .loc[row_indexer,col_indexer] = value instead\n",
      "\n",
      "See the caveats in the documentation: https://pandas.pydata.org/pandas-docs/stable/user_guide/indexing.html#returning-a-view-versus-a-copy\n",
      "  df['Anomaly_values'] = iso_forest.fit_predict(df[['Salary_INR', 'Working_Hours']])\n"
     ]
    }
   ],
   "source": [
    "# Step 1: Fit Isolation Forest with 'auto' contamination\n",
    "iso_forest = IsolationForest(contamination=\"auto\", random_state=42)\n",
    "df['Anomaly_values'] = iso_forest.fit_predict(df[['Salary_INR', 'Working_Hours']])"
   ]
  },
  {
   "cell_type": "code",
   "execution_count": 16,
   "id": "4e4afc00-edf3-4769-8912-56330878863e",
   "metadata": {
    "id": "4e4afc00-edf3-4769-8912-56330878863e",
    "outputId": "8ce9c656-a307-4f81-8506-53dba576d311"
   },
   "outputs": [
    {
     "data": {
      "text/html": [
       "<div>\n",
       "<style scoped>\n",
       "    .dataframe tbody tr th:only-of-type {\n",
       "        vertical-align: middle;\n",
       "    }\n",
       "\n",
       "    .dataframe tbody tr th {\n",
       "        vertical-align: top;\n",
       "    }\n",
       "\n",
       "    .dataframe thead th {\n",
       "        text-align: right;\n",
       "    }\n",
       "</style>\n",
       "<table border=\"1\" class=\"dataframe\">\n",
       "  <thead>\n",
       "    <tr style=\"text-align: right;\">\n",
       "      <th></th>\n",
       "      <th>Salary_INR</th>\n",
       "      <th>Working_Hours</th>\n",
       "      <th>Anomaly_values</th>\n",
       "    </tr>\n",
       "  </thead>\n",
       "  <tbody>\n",
       "    <tr>\n",
       "      <th>0</th>\n",
       "      <td>562178.0</td>\n",
       "      <td>42.55</td>\n",
       "      <td>1</td>\n",
       "    </tr>\n",
       "    <tr>\n",
       "      <th>1</th>\n",
       "      <td>965500.0</td>\n",
       "      <td>47.85</td>\n",
       "      <td>1</td>\n",
       "    </tr>\n",
       "    <tr>\n",
       "      <th>2</th>\n",
       "      <td>812396.0</td>\n",
       "      <td>44.88</td>\n",
       "      <td>1</td>\n",
       "    </tr>\n",
       "    <tr>\n",
       "      <th>3</th>\n",
       "      <td>719061.0</td>\n",
       "      <td>37.44</td>\n",
       "      <td>1</td>\n",
       "    </tr>\n",
       "    <tr>\n",
       "      <th>4</th>\n",
       "      <td>409213.0</td>\n",
       "      <td>36.06</td>\n",
       "      <td>1</td>\n",
       "    </tr>\n",
       "    <tr>\n",
       "      <th>...</th>\n",
       "      <td>...</td>\n",
       "      <td>...</td>\n",
       "      <td>...</td>\n",
       "    </tr>\n",
       "    <tr>\n",
       "      <th>492</th>\n",
       "      <td>616304.0</td>\n",
       "      <td>31.77</td>\n",
       "      <td>1</td>\n",
       "    </tr>\n",
       "    <tr>\n",
       "      <th>493</th>\n",
       "      <td>2887104.0</td>\n",
       "      <td>57.22</td>\n",
       "      <td>-1</td>\n",
       "    </tr>\n",
       "    <tr>\n",
       "      <th>496</th>\n",
       "      <td>347514.0</td>\n",
       "      <td>83.39</td>\n",
       "      <td>-1</td>\n",
       "    </tr>\n",
       "    <tr>\n",
       "      <th>497</th>\n",
       "      <td>2990935.0</td>\n",
       "      <td>20.95</td>\n",
       "      <td>-1</td>\n",
       "    </tr>\n",
       "    <tr>\n",
       "      <th>499</th>\n",
       "      <td>1826617.0</td>\n",
       "      <td>45.68</td>\n",
       "      <td>-1</td>\n",
       "    </tr>\n",
       "  </tbody>\n",
       "</table>\n",
       "<p>454 rows × 3 columns</p>\n",
       "</div>"
      ],
      "text/plain": [
       "     Salary_INR  Working_Hours  Anomaly_values\n",
       "0      562178.0          42.55               1\n",
       "1      965500.0          47.85               1\n",
       "2      812396.0          44.88               1\n",
       "3      719061.0          37.44               1\n",
       "4      409213.0          36.06               1\n",
       "..          ...            ...             ...\n",
       "492    616304.0          31.77               1\n",
       "493   2887104.0          57.22              -1\n",
       "496    347514.0          83.39              -1\n",
       "497   2990935.0          20.95              -1\n",
       "499   1826617.0          45.68              -1\n",
       "\n",
       "[454 rows x 3 columns]"
      ]
     },
     "execution_count": 16,
     "metadata": {},
     "output_type": "execute_result"
    }
   ],
   "source": [
    "df"
   ]
  },
  {
   "cell_type": "code",
   "execution_count": 17,
   "id": "17f87317-3997-4aaf-a67b-ac2f62b3f6df",
   "metadata": {
    "id": "17f87317-3997-4aaf-a67b-ac2f62b3f6df",
    "outputId": "7f1abbc3-6991-46a5-c790-ff2fe21be26d"
   },
   "outputs": [
    {
     "data": {
      "text/plain": [
       "Anomaly_values\n",
       " 1    338\n",
       "-1    116\n",
       "Name: count, dtype: int64"
      ]
     },
     "execution_count": 17,
     "metadata": {},
     "output_type": "execute_result"
    }
   ],
   "source": [
    "df['Anomaly_values'].value_counts()"
   ]
  },
  {
   "cell_type": "code",
   "execution_count": 18,
   "id": "be510564-e962-42ef-b388-265718febe3b",
   "metadata": {
    "id": "be510564-e962-42ef-b388-265718febe3b"
   },
   "outputs": [],
   "source": [
    "# Step 2: Calculate the actual contamination\n",
    "fraud = df[df['Anomaly_values'] == -1]\n",
    "valid = df[df['Anomaly_values'] == 1]\n",
    "contamination = len(fraud) / float(len(df))"
   ]
  },
  {
   "cell_type": "code",
   "execution_count": 19,
   "id": "9dfc288f-baea-401e-9189-762e8219e46d",
   "metadata": {
    "id": "9dfc288f-baea-401e-9189-762e8219e46d",
    "outputId": "c017c793-9bd5-40b4-f392-c61400925601"
   },
   "outputs": [
    {
     "name": "stdout",
     "output_type": "stream",
     "text": [
      "Calculated Contamination Rate: 0.2555\n"
     ]
    }
   ],
   "source": [
    "print(f\"Calculated Contamination Rate: {contamination:.4f}\")"
   ]
  },
  {
   "cell_type": "code",
   "execution_count": 20,
   "id": "a8e1eb22-ab41-4d44-ba66-16f52912ee1a",
   "metadata": {
    "id": "a8e1eb22-ab41-4d44-ba66-16f52912ee1a",
    "outputId": "d5aa3711-4e7c-40f9-bc6e-e63ff10ecba4"
   },
   "outputs": [
    {
     "name": "stderr",
     "output_type": "stream",
     "text": [
      "C:\\Users\\JOYEETA\\AppData\\Local\\Temp\\ipykernel_16048\\159370015.py:3: SettingWithCopyWarning: \n",
      "A value is trying to be set on a copy of a slice from a DataFrame.\n",
      "Try using .loc[row_indexer,col_indexer] = value instead\n",
      "\n",
      "See the caveats in the documentation: https://pandas.pydata.org/pandas-docs/stable/user_guide/indexing.html#returning-a-view-versus-a-copy\n",
      "  df['Anomaly_'] = iso_forest.fit_predict(df[['Salary_INR', 'Working_Hours']])\n"
     ]
    },
    {
     "data": {
      "text/html": [
       "<div>\n",
       "<style scoped>\n",
       "    .dataframe tbody tr th:only-of-type {\n",
       "        vertical-align: middle;\n",
       "    }\n",
       "\n",
       "    .dataframe tbody tr th {\n",
       "        vertical-align: top;\n",
       "    }\n",
       "\n",
       "    .dataframe thead th {\n",
       "        text-align: right;\n",
       "    }\n",
       "</style>\n",
       "<table border=\"1\" class=\"dataframe\">\n",
       "  <thead>\n",
       "    <tr style=\"text-align: right;\">\n",
       "      <th></th>\n",
       "      <th>Salary_INR</th>\n",
       "      <th>Working_Hours</th>\n",
       "      <th>Anomaly_values</th>\n",
       "      <th>Anomaly_</th>\n",
       "    </tr>\n",
       "  </thead>\n",
       "  <tbody>\n",
       "    <tr>\n",
       "      <th>0</th>\n",
       "      <td>562178.0</td>\n",
       "      <td>42.55</td>\n",
       "      <td>1</td>\n",
       "      <td>1</td>\n",
       "    </tr>\n",
       "    <tr>\n",
       "      <th>1</th>\n",
       "      <td>965500.0</td>\n",
       "      <td>47.85</td>\n",
       "      <td>1</td>\n",
       "      <td>1</td>\n",
       "    </tr>\n",
       "    <tr>\n",
       "      <th>2</th>\n",
       "      <td>812396.0</td>\n",
       "      <td>44.88</td>\n",
       "      <td>1</td>\n",
       "      <td>1</td>\n",
       "    </tr>\n",
       "    <tr>\n",
       "      <th>3</th>\n",
       "      <td>719061.0</td>\n",
       "      <td>37.44</td>\n",
       "      <td>1</td>\n",
       "      <td>1</td>\n",
       "    </tr>\n",
       "    <tr>\n",
       "      <th>4</th>\n",
       "      <td>409213.0</td>\n",
       "      <td>36.06</td>\n",
       "      <td>1</td>\n",
       "      <td>1</td>\n",
       "    </tr>\n",
       "    <tr>\n",
       "      <th>...</th>\n",
       "      <td>...</td>\n",
       "      <td>...</td>\n",
       "      <td>...</td>\n",
       "      <td>...</td>\n",
       "    </tr>\n",
       "    <tr>\n",
       "      <th>492</th>\n",
       "      <td>616304.0</td>\n",
       "      <td>31.77</td>\n",
       "      <td>1</td>\n",
       "      <td>1</td>\n",
       "    </tr>\n",
       "    <tr>\n",
       "      <th>493</th>\n",
       "      <td>2887104.0</td>\n",
       "      <td>57.22</td>\n",
       "      <td>-1</td>\n",
       "      <td>-1</td>\n",
       "    </tr>\n",
       "    <tr>\n",
       "      <th>496</th>\n",
       "      <td>347514.0</td>\n",
       "      <td>83.39</td>\n",
       "      <td>-1</td>\n",
       "      <td>-1</td>\n",
       "    </tr>\n",
       "    <tr>\n",
       "      <th>497</th>\n",
       "      <td>2990935.0</td>\n",
       "      <td>20.95</td>\n",
       "      <td>-1</td>\n",
       "      <td>-1</td>\n",
       "    </tr>\n",
       "    <tr>\n",
       "      <th>499</th>\n",
       "      <td>1826617.0</td>\n",
       "      <td>45.68</td>\n",
       "      <td>-1</td>\n",
       "      <td>-1</td>\n",
       "    </tr>\n",
       "  </tbody>\n",
       "</table>\n",
       "<p>454 rows × 4 columns</p>\n",
       "</div>"
      ],
      "text/plain": [
       "     Salary_INR  Working_Hours  Anomaly_values  Anomaly_\n",
       "0      562178.0          42.55               1         1\n",
       "1      965500.0          47.85               1         1\n",
       "2      812396.0          44.88               1         1\n",
       "3      719061.0          37.44               1         1\n",
       "4      409213.0          36.06               1         1\n",
       "..          ...            ...             ...       ...\n",
       "492    616304.0          31.77               1         1\n",
       "493   2887104.0          57.22              -1        -1\n",
       "496    347514.0          83.39              -1        -1\n",
       "497   2990935.0          20.95              -1        -1\n",
       "499   1826617.0          45.68              -1        -1\n",
       "\n",
       "[454 rows x 4 columns]"
      ]
     },
     "execution_count": 20,
     "metadata": {},
     "output_type": "execute_result"
    }
   ],
   "source": [
    "# Step 3: Fit Isolation Forest again with actual contamination value\n",
    "iso_forest = IsolationForest(contamination=contamination, random_state=42)\n",
    "df['Anomaly_'] = iso_forest.fit_predict(df[['Salary_INR', 'Working_Hours']])\n",
    "df"
   ]
  },
  {
   "cell_type": "code",
   "execution_count": 22,
   "id": "4b1362c5-129c-483b-95c2-0069dd337bfd",
   "metadata": {},
   "outputs": [
    {
     "name": "stdout",
     "output_type": "stream",
     "text": [
      "Index(['Salary_INR', 'Working_Hours', 'Anomaly_values', 'Anomaly_'], dtype='object')\n"
     ]
    }
   ],
   "source": [
    "print(df.columns)"
   ]
  },
  {
   "cell_type": "code",
   "execution_count": 23,
   "id": "c61dbf35-9b47-4ccd-a60c-f3f2ac7458aa",
   "metadata": {
    "id": "c61dbf35-9b47-4ccd-a60c-f3f2ac7458aa"
   },
   "outputs": [],
   "source": [
    "# Separate normal and anomalous data\n",
    "normal_data = df[df['Anomaly_'] == 1]\n",
    "anomalies = df[df['Anomaly_'] == -1]"
   ]
  },
  {
   "cell_type": "code",
   "execution_count": 24,
   "id": "e44b1467-31d2-43a6-b98e-4eeaa2fa907c",
   "metadata": {
    "id": "e44b1467-31d2-43a6-b98e-4eeaa2fa907c",
    "outputId": "756af6b1-d9fb-4807-935c-fedc0eaa638a"
   },
   "outputs": [
    {
     "data": {
      "image/png": "[encoded data removed]",
      "text/plain": [
       "<Figure size 1000x600 with 1 Axes>"
      ]
     },
     "metadata": {},
     "output_type": "display_data"
    }
   ],
   "source": [
    "# 📌 Plot 2: Anomaly Detection Results (After Applying Isolation Forest)\n",
    "plt.figure(figsize=(10, 6))\n",
    "plt.scatter(normal_data['Salary_INR'], normal_data['Working_Hours'], label=\"Normal\", color=\"blue\", alpha=0.6)\n",
    "plt.scatter(anomalies['Salary_INR'], anomalies['Working_Hours'], label=\"Anomaly_\", color=\"red\", alpha=0.7)\n",
    "plt.xlabel(\"Salary (INR)\")\n",
    "plt.ylabel(\"Working Hours per Week\")\n",
    "plt.title(\"Anomaly Detection using Isolation Forest (After Detection)\")\n",
    "plt.legend()\n",
    "plt.show()"
   ]
  },
  {
   "cell_type": "code",
   "execution_count": 25,
   "id": "e9aeb9b3-6da3-436e-99c5-74111c6acb6e",
   "metadata": {
    "id": "e9aeb9b3-6da3-436e-99c5-74111c6acb6e",
    "outputId": "580b913b-c9f4-42f5-f33e-01a077749f40"
   },
   "outputs": [
    {
     "name": "stdout",
     "output_type": "stream",
     "text": [
      "Total anomalies detected: 116\n"
     ]
    }
   ],
   "source": [
    "# Display the number of anomalies detected\n",
    "print(f\"Total anomalies detected: {len(anomalies)}\")"
   ]
  },
  {
   "cell_type": "markdown",
   "id": "4f518f49-2b65-44d0-a35e-99ea122cd00f",
   "metadata": {
    "id": "4f518f49-2b65-44d0-a35e-99ea122cd00f"
   },
   "source": [
    "### Method 2 To detect Anomalies"
   ]
  },
  {
   "cell_type": "code",
   "execution_count": 26,
   "id": "512a574d-d525-422a-8629-73038b7f8e59",
   "metadata": {
    "id": "512a574d-d525-422a-8629-73038b7f8e59",
    "outputId": "5aa88efb-f131-4bd2-d08a-d682393b8654"
   },
   "outputs": [
    {
     "data": {
      "image/png": "[encoded data removed]",
      "text/plain": [
       "<Figure size 1000x600 with 1 Axes>"
      ]
     },
     "metadata": {},
     "output_type": "display_data"
    },
    {
     "name": "stderr",
     "output_type": "stream",
     "text": [
      "C:\\Users\\JOYEETA\\AppData\\Local\\Temp\\ipykernel_16048\\2645947224.py:16: SettingWithCopyWarning: \n",
      "A value is trying to be set on a copy of a slice from a DataFrame.\n",
      "Try using .loc[row_indexer,col_indexer] = value instead\n",
      "\n",
      "See the caveats in the documentation: https://pandas.pydata.org/pandas-docs/stable/user_guide/indexing.html#returning-a-view-versus-a-copy\n",
      "  df['Anomaly_Score'] = clf.decision_function(df[['Salary_INR', 'Working_Hours']])\n",
      "C:\\Users\\JOYEETA\\AppData\\Local\\Temp\\ipykernel_16048\\2645947224.py:17: SettingWithCopyWarning: \n",
      "A value is trying to be set on a copy of a slice from a DataFrame.\n",
      "Try using .loc[row_indexer,col_indexer] = value instead\n",
      "\n",
      "See the caveats in the documentation: https://pandas.pydata.org/pandas-docs/stable/user_guide/indexing.html#returning-a-view-versus-a-copy\n",
      "  df['Anomaly'] = clf.predict(df[['Salary_INR', 'Working_Hours']])\n"
     ]
    },
    {
     "name": "stdout",
     "output_type": "stream",
     "text": [
      "Calculated Contamination Rate: 0.2555\n"
     ]
    },
    {
     "name": "stderr",
     "output_type": "stream",
     "text": [
      "C:\\Users\\JOYEETA\\AppData\\Local\\Temp\\ipykernel_16048\\2645947224.py:28: SettingWithCopyWarning: \n",
      "A value is trying to be set on a copy of a slice from a DataFrame.\n",
      "Try using .loc[row_indexer,col_indexer] = value instead\n",
      "\n",
      "See the caveats in the documentation: https://pandas.pydata.org/pandas-docs/stable/user_guide/indexing.html#returning-a-view-versus-a-copy\n",
      "  df['Anomaly_Score'] = clf.decision_function(df[['Salary_INR', 'Working_Hours']])\n",
      "C:\\Users\\JOYEETA\\AppData\\Local\\Temp\\ipykernel_16048\\2645947224.py:29: SettingWithCopyWarning: \n",
      "A value is trying to be set on a copy of a slice from a DataFrame.\n",
      "Try using .loc[row_indexer,col_indexer] = value instead\n",
      "\n",
      "See the caveats in the documentation: https://pandas.pydata.org/pandas-docs/stable/user_guide/indexing.html#returning-a-view-versus-a-copy\n",
      "  df['Anomaly'] = clf.predict(df[['Salary_INR', 'Working_Hours']])\n"
     ]
    },
    {
     "data": {
      "image/png": "[encoded data removed]",
      "text/plain": [
       "<Figure size 1000x600 with 1 Axes>"
      ]
     },
     "metadata": {},
     "output_type": "display_data"
    },
    {
     "name": "stdout",
     "output_type": "stream",
     "text": [
      "Total anomalies detected using threshold 0.0019: 117\n",
      "\n",
      "🔹 Model Performance Metrics 🔹\n",
      "✅ Accuracy: 1.0000\n",
      "✅ Precision: 1.0000\n",
      "✅ Recall: 1.0000\n",
      "✅ F1-Score: 1.0000\n"
     ]
    }
   ],
   "source": [
    "from sklearn.metrics import accuracy_score, precision_score, recall_score, f1_score\n",
    "\n",
    "# 📌 Plot 1: Original Data Distribution\n",
    "plt.figure(figsize=(10, 6))\n",
    "plt.scatter(df['Salary_INR'], df['Working_Hours'], color=\"gray\", alpha=0.6)\n",
    "plt.xlabel(\"Salary (INR)\")\n",
    "plt.ylabel(\"Working Hours per Week\")\n",
    "plt.title(\"Original Data Distribution (Before Anomaly Detection)\")\n",
    "plt.show()\n",
    "\n",
    "# Step 1: Fit Isolation Forest with 'auto' contamination\n",
    "clf = IsolationForest(contamination=\"auto\", random_state=42)\n",
    "clf.fit(df[['Salary_INR', 'Working_Hours']])\n",
    "\n",
    "# Get Anomaly Scores\n",
    "df['Anomaly_Score'] = clf.decision_function(df[['Salary_INR', 'Working_Hours']])\n",
    "df['Anomaly'] = clf.predict(df[['Salary_INR', 'Working_Hours']])\n",
    "\n",
    "# Step 2: Calculate the actual contamination\n",
    "contamination = len(df.query(\"Anomaly == -1\")) / len(df)\n",
    "print(f\"Calculated Contamination Rate: {contamination:.4f}\")\n",
    "\n",
    "# Step 3: Fit Isolation Forest again with actual contamination\n",
    "clf = IsolationForest(contamination=contamination, random_state=42)\n",
    "clf.fit(df[['Salary_INR', 'Working_Hours']])\n",
    "\n",
    "# Update Anomaly Scores and Predictions\n",
    "df['Anomaly_Score'] = clf.decision_function(df[['Salary_INR', 'Working_Hours']])\n",
    "df['Anomaly'] = clf.predict(df[['Salary_INR', 'Working_Hours']])\n",
    "\n",
    "# Step 4: Query anomalies using a custom threshold\n",
    "threshold = 0.0019  # You can adjust this based on your analysis\n",
    "anomalies = df.query(\"Anomaly_Score < @threshold\")\n",
    "\n",
    "# 📌 Plot 2: Anomaly Detection Results\n",
    "plt.figure(figsize=(10, 6))\n",
    "plt.scatter(df.query(\"Anomaly == 1\")['Salary_INR'], df.query(\"Anomaly == 1\")['Working_Hours'],\n",
    "            label=\"Normal\", color=\"blue\", alpha=0.6)\n",
    "plt.scatter(anomalies['Salary_INR'], anomalies['Working_Hours'],\n",
    "            label=\"Anomaly\", color=\"red\", alpha=0.7)\n",
    "plt.xlabel(\"Salary (INR)\")\n",
    "plt.ylabel(\"Working Hours per Week\")\n",
    "plt.title(\"Anomaly Detection using Isolation Forest (After Detection)\")\n",
    "plt.legend()\n",
    "plt.show()\n",
    "\n",
    "# Step 5: Print number of anomalies\n",
    "print(f\"Total anomalies detected using threshold {threshold}: {len(anomalies)}\")\n",
    "\n",
    "# Step 6: Performance Metrics\n",
    "y_true = np.array([1 if anomaly == 1 else -1 for anomaly in df['Anomaly']])\n",
    "y_pred = np.array(df['Anomaly'])\n",
    "\n",
    "accuracy = accuracy_score(y_true, y_pred)\n",
    "precision = precision_score(y_true, y_pred, pos_label=-1)\n",
    "recall = recall_score(y_true, y_pred, pos_label=-1)\n",
    "f1 = f1_score(y_true, y_pred, pos_label=-1)\n",
    "\n",
    "print(f\"\\n🔹 Model Performance Metrics 🔹\")\n",
    "print(f\"✅ Accuracy: {accuracy:.4f}\")\n",
    "print(f\"✅ Precision: {precision:.4f}\")\n",
    "print(f\"✅ Recall: {recall:.4f}\")\n",
    "print(f\"✅ F1-Score: {f1:.4f}\")"
   ]
  },
  {
   "cell_type": "code",
   "execution_count": 27,
   "id": "801b2284-a44c-4b2c-95cf-b8efe1e0b831",
   "metadata": {
    "id": "801b2284-a44c-4b2c-95cf-b8efe1e0b831"
   },
   "outputs": [
    {
     "data": {
      "text/html": [
       "<div>\n",
       "<style scoped>\n",
       "    .dataframe tbody tr th:only-of-type {\n",
       "        vertical-align: middle;\n",
       "    }\n",
       "\n",
       "    .dataframe tbody tr th {\n",
       "        vertical-align: top;\n",
       "    }\n",
       "\n",
       "    .dataframe thead th {\n",
       "        text-align: right;\n",
       "    }\n",
       "</style>\n",
       "<table border=\"1\" class=\"dataframe\">\n",
       "  <thead>\n",
       "    <tr style=\"text-align: right;\">\n",
       "      <th></th>\n",
       "      <th>Salary_INR</th>\n",
       "      <th>Working_Hours</th>\n",
       "      <th>Anomaly_values</th>\n",
       "      <th>Anomaly_</th>\n",
       "      <th>Anomaly_Score</th>\n",
       "      <th>Anomaly</th>\n",
       "    </tr>\n",
       "  </thead>\n",
       "  <tbody>\n",
       "    <tr>\n",
       "      <th>0</th>\n",
       "      <td>562178.0</td>\n",
       "      <td>42.55</td>\n",
       "      <td>1</td>\n",
       "      <td>1</td>\n",
       "      <td>0.124850</td>\n",
       "      <td>1</td>\n",
       "    </tr>\n",
       "    <tr>\n",
       "      <th>1</th>\n",
       "      <td>965500.0</td>\n",
       "      <td>47.85</td>\n",
       "      <td>1</td>\n",
       "      <td>1</td>\n",
       "      <td>0.088184</td>\n",
       "      <td>1</td>\n",
       "    </tr>\n",
       "    <tr>\n",
       "      <th>2</th>\n",
       "      <td>812396.0</td>\n",
       "      <td>44.88</td>\n",
       "      <td>1</td>\n",
       "      <td>1</td>\n",
       "      <td>0.121158</td>\n",
       "      <td>1</td>\n",
       "    </tr>\n",
       "    <tr>\n",
       "      <th>3</th>\n",
       "      <td>719061.0</td>\n",
       "      <td>37.44</td>\n",
       "      <td>1</td>\n",
       "      <td>1</td>\n",
       "      <td>0.112392</td>\n",
       "      <td>1</td>\n",
       "    </tr>\n",
       "    <tr>\n",
       "      <th>4</th>\n",
       "      <td>409213.0</td>\n",
       "      <td>36.06</td>\n",
       "      <td>1</td>\n",
       "      <td>1</td>\n",
       "      <td>0.092038</td>\n",
       "      <td>1</td>\n",
       "    </tr>\n",
       "    <tr>\n",
       "      <th>...</th>\n",
       "      <td>...</td>\n",
       "      <td>...</td>\n",
       "      <td>...</td>\n",
       "      <td>...</td>\n",
       "      <td>...</td>\n",
       "      <td>...</td>\n",
       "    </tr>\n",
       "    <tr>\n",
       "      <th>492</th>\n",
       "      <td>616304.0</td>\n",
       "      <td>31.77</td>\n",
       "      <td>1</td>\n",
       "      <td>1</td>\n",
       "      <td>0.034028</td>\n",
       "      <td>1</td>\n",
       "    </tr>\n",
       "    <tr>\n",
       "      <th>493</th>\n",
       "      <td>2887104.0</td>\n",
       "      <td>57.22</td>\n",
       "      <td>-1</td>\n",
       "      <td>-1</td>\n",
       "      <td>-0.133426</td>\n",
       "      <td>-1</td>\n",
       "    </tr>\n",
       "    <tr>\n",
       "      <th>496</th>\n",
       "      <td>347514.0</td>\n",
       "      <td>83.39</td>\n",
       "      <td>-1</td>\n",
       "      <td>-1</td>\n",
       "      <td>-0.146732</td>\n",
       "      <td>-1</td>\n",
       "    </tr>\n",
       "    <tr>\n",
       "      <th>497</th>\n",
       "      <td>2990935.0</td>\n",
       "      <td>20.95</td>\n",
       "      <td>-1</td>\n",
       "      <td>-1</td>\n",
       "      <td>-0.155733</td>\n",
       "      <td>-1</td>\n",
       "    </tr>\n",
       "    <tr>\n",
       "      <th>499</th>\n",
       "      <td>1826617.0</td>\n",
       "      <td>45.68</td>\n",
       "      <td>-1</td>\n",
       "      <td>-1</td>\n",
       "      <td>-0.046241</td>\n",
       "      <td>-1</td>\n",
       "    </tr>\n",
       "  </tbody>\n",
       "</table>\n",
       "<p>454 rows × 6 columns</p>\n",
       "</div>"
      ],
      "text/plain": [
       "     Salary_INR  Working_Hours  Anomaly_values  Anomaly_  Anomaly_Score  \\\n",
       "0      562178.0          42.55               1         1       0.124850   \n",
       "1      965500.0          47.85               1         1       0.088184   \n",
       "2      812396.0          44.88               1         1       0.121158   \n",
       "3      719061.0          37.44               1         1       0.112392   \n",
       "4      409213.0          36.06               1         1       0.092038   \n",
       "..          ...            ...             ...       ...            ...   \n",
       "492    616304.0          31.77               1         1       0.034028   \n",
       "493   2887104.0          57.22              -1        -1      -0.133426   \n",
       "496    347514.0          83.39              -1        -1      -0.146732   \n",
       "497   2990935.0          20.95              -1        -1      -0.155733   \n",
       "499   1826617.0          45.68              -1        -1      -0.046241   \n",
       "\n",
       "     Anomaly  \n",
       "0          1  \n",
       "1          1  \n",
       "2          1  \n",
       "3          1  \n",
       "4          1  \n",
       "..       ...  \n",
       "492        1  \n",
       "493       -1  \n",
       "496       -1  \n",
       "497       -1  \n",
       "499       -1  \n",
       "\n",
       "[454 rows x 6 columns]"
      ]
     },
     "execution_count": 27,
     "metadata": {},
     "output_type": "execute_result"
    }
   ],
   "source": [
    "df"
   ]
  },
  {
   "cell_type": "markdown",
   "id": "aotEQ0oFz4OQ",
   "metadata": {
    "id": "aotEQ0oFz4OQ"
   },
   "source": [
    "## **🔍 Understanding Anomaly Detection with Isolation Forest**  \n",
    "Anomaly detection is the process of identifying rare items, events, or observations that differ significantly from the majority of the data. **Isolation Forest** is a popular algorithm for this, and we have two different approaches to implement it.  \n",
    "\n",
    "### **📌 Key Difference Between Both Approaches**  \n",
    "1️⃣ **Method 1 (Manual Separation Approach)**  \n",
    "   - Uses `fit_predict()` directly to classify anomalies as **`-1` (Anomaly) and `1` (Normal)**.  \n",
    "   - Manually separates the data based on these labels.  \n",
    "   - No anomaly score is calculated explicitly.  \n",
    "   - Relies solely on Isolation Forest’s predictions.  \n",
    "\n",
    "2️⃣ **Method 2 (Anomaly Score & Threshold Approach)**  \n",
    "   - Uses the **decision function** (`decision_function()`) to calculate an **Anomaly Score** for each point.  \n",
    "   - Anomalies are identified using a **custom threshold** on the score.  \n",
    "   - Provides **more flexibility**, as we can fine-tune the threshold.  \n",
    "   - Additionally computes **performance metrics** (Accuracy, Precision, Recall, F1-score).  \n",
    "\n",
    "Now, let’s **break down** both approaches **step by step** 👇  \n",
    "\n",
    "---\n",
    "\n",
    "## **🛠️ Method 1: Manual Separation Approach**\n",
    "### **Step 1: Train the Initial Isolation Forest**\n",
    "```python\n",
    "iso_forest = IsolationForest(contamination=\"auto\", random_state=42)\n",
    "df['Anomaly_values'] = iso_forest.fit_predict(df[['Salary_INR', 'Working_Hours']])\n",
    "df['Anomaly_values'].value_counts()\n",
    "```\n",
    "🔹 **What happens here?**  \n",
    "- We **initialize** the Isolation Forest model.  \n",
    "- The **contamination=\"auto\"** allows the model to estimate the fraction of anomalies.  \n",
    "- `fit_predict()` assigns each data point a label:  \n",
    "  - **`1` → Normal Data**  \n",
    "  - **`-1` → Anomaly (Outlier)**  \n",
    "\n",
    "---\n",
    "\n",
    "### **Step 2: Calculate Actual Contamination Rate**\n",
    "```python\n",
    "fraud = df[df['Anomaly_values'] == -1]\n",
    "valid = df[df['Anomaly_values'] == 1]\n",
    "contamination = len(fraud) / float(len(df))\n",
    "print(f\"Calculated Contamination Rate: {contamination:.4f}\")\n",
    "```\n",
    "🔹 **Why do we do this?**  \n",
    "- We extract the **anomalous (fraud)** and **valid (normal)** points.  \n",
    "- Calculate the **actual contamination rate** for better model tuning.  \n",
    "\n",
    "---\n",
    "\n",
    "### **Step 3: Train the Model Again with Actual Contamination**\n",
    "```python\n",
    "iso_forest = IsolationForest(contamination=contamination, random_state=42)\n",
    "df['Anomaly_'] = iso_forest.fit_predict(df[['Salary_INR', 'Working_Hours']])\n",
    "```\n",
    "🔹 **Why retrain?**  \n",
    "- Instead of relying on the auto-estimated contamination, we use the **real contamination rate** for more accurate results.  \n",
    "\n",
    "---\n",
    "\n",
    "### **Step 4: Visualize the Anomalies**\n",
    "```python\n",
    "normal_data = df[df['Anomaly_'] == 1]\n",
    "anomalies = df[df['Anomaly_'] == -1]\n",
    "\n",
    "plt.figure(figsize=(10, 6))\n",
    "plt.scatter(normal_data['Salary_INR'], normal_data['Working_Hours'], label=\"Normal\", color=\"blue\", alpha=0.6)\n",
    "plt.scatter(anomalies['Salary_INR'], anomalies['Working_Hours'], label=\"Anomaly\", color=\"red\", alpha=0.7)\n",
    "plt.xlabel(\"Salary (INR)\")\n",
    "plt.ylabel(\"Working Hours per Week\")\n",
    "plt.title(\"Anomaly Detection using Isolation Forest (After Detection)\")\n",
    "plt.legend()\n",
    "plt.show()\n",
    "print(f\"Total anomalies detected: {len(anomalies)}\")\n",
    "```\n",
    "🔹 **Key Insights:**  \n",
    "- We **separate normal and anomalous data** using `1` and `-1` labels.  \n",
    "- A **scatter plot** shows **red points (anomalies)** and **blue points (normal data)**.  \n",
    "- The total number of anomalies is displayed.  \n",
    "\n",
    "💡 **This method relies solely on `fit_predict()`, without using an anomaly score.**  \n",
    "\n",
    "---\n",
    "\n",
    "## **🛠️ Method 2: Anomaly Score & Threshold Approach**\n",
    "### **Step 1: Plot the Original Data**\n",
    "```python\n",
    "plt.figure(figsize=(10, 6))\n",
    "plt.scatter(df['Salary_INR'], df['Working_Hours'], color=\"gray\", alpha=0.6)\n",
    "plt.xlabel(\"Salary (INR)\")\n",
    "plt.ylabel(\"Working Hours per Week\")\n",
    "plt.title(\"Original Data Distribution (Before Anomaly Detection)\")\n",
    "plt.show()\n",
    "```\n",
    "🔹 **Why plot this?**  \n",
    "- Helps us **visualize** the raw dataset before detecting anomalies.  \n",
    "\n",
    "---\n",
    "\n",
    "### **Step 2: Train the Initial Isolation Forest**\n",
    "```python\n",
    "clf = IsolationForest(contamination=\"auto\", random_state=42)\n",
    "clf.fit(df[['Salary_INR', 'Working_Hours']])\n",
    "\n",
    "df['Anomaly_Score'] = clf.decision_function(df[['Salary_INR', 'Working_Hours']])\n",
    "df['Anomaly'] = clf.predict(df[['Salary_INR', 'Working_Hours']])\n",
    "```\n",
    "🔹 **What happens here?**  \n",
    "- The **`decision_function()`** calculates an **Anomaly Score**:  \n",
    "  - **Higher Score** → More likely normal.  \n",
    "  - **Lower Score** → More likely an anomaly.  \n",
    "- **Unlike Method 1**, we use a **numerical score** instead of just `1` or `-1`.  \n",
    "\n",
    "---\n",
    "\n",
    "### **Step 3: Calculate Actual Contamination Rate**\n",
    "```python\n",
    "contamination = len(df.query(\"Anomaly == -1\")) / len(df)\n",
    "print(f\"Calculated Contamination Rate: {contamination:.4f}\")\n",
    "```\n",
    "- The **real contamination rate** is calculated **just like in Method 1**.  \n",
    "\n",
    "---\n",
    "\n",
    "### **Step 4: Retrain the Model**\n",
    "```python\n",
    "clf = IsolationForest(contamination=contamination, random_state=42)\n",
    "clf.fit(df[['Salary_INR', 'Working_Hours']])\n",
    "\n",
    "df['Anomaly_Score'] = clf.decision_function(df[['Salary_INR', 'Working_Hours']])\n",
    "df['Anomaly'] = clf.predict(df[['Salary_INR', 'Working_Hours']])\n",
    "```\n",
    "- We **retrain the model** with the **real contamination value**.  \n",
    "\n",
    "---\n",
    "\n",
    "### **Step 5: Separate Anomalies Using a Custom Threshold**\n",
    "```python\n",
    "threshold = 0.0019  # Custom threshold\n",
    "anomalies = df.query(\"Anomaly_Score < @threshold\")\n",
    "```\n",
    "🔹 **Key Difference Here:**  \n",
    "- Instead of relying on `1` and `-1` directly, we **use an Anomaly Score threshold**.  \n",
    "- This allows us to **fine-tune** what we consider an anomaly.  \n",
    "\n",
    "---\n",
    "\n",
    "### **Step 6: Visualize the Results**\n",
    "```python\n",
    "plt.figure(figsize=(10, 6))\n",
    "plt.scatter(df.query(\"Anomaly == 1\")['Salary_INR'], df.query(\"Anomaly == 1\")['Working_Hours'],\n",
    "            label=\"Normal\", color=\"blue\", alpha=0.6)\n",
    "plt.scatter(anomalies['Salary_INR'], anomalies['Working_Hours'],\n",
    "            label=\"Anomaly\", color=\"red\", alpha=0.7)\n",
    "plt.xlabel(\"Salary (INR)\")\n",
    "plt.ylabel(\"Working Hours per Week\")\n",
    "plt.title(\"Anomaly Detection using Isolation Forest (After Detection)\")\n",
    "plt.legend()\n",
    "plt.show()\n",
    "```\n",
    "- **Blue points = Normal Data**  \n",
    "- **Red points = Anomalies (identified using threshold)**  \n",
    "\n",
    "---\n",
    "\n",
    "### **Step 7: Compute Performance Metrics**\n",
    "```python\n",
    "accuracy = accuracy_score(y_true, y_pred)\n",
    "precision = precision_score(y_true, y_pred, pos_label=-1)\n",
    "recall = recall_score(y_true, y_pred, pos_label=-1)\n",
    "f1 = f1_score(y_true, y_pred, pos_label=-1)\n",
    "\n",
    "print(f\"\\n🔹 Model Performance Metrics 🔹\")\n",
    "print(f\"✅ Accuracy: {accuracy:.4f}\")\n",
    "print(f\"✅ Precision: {precision:.4f}\")\n",
    "print(f\"✅ Recall: {recall:.4f}\")\n",
    "print(f\"✅ F1-Score: {f1:.4f}\")\n",
    "```\n",
    "**Why this matters?**  \n",
    "- Helps **evaluate model performance** using key classification metrics.  \n",
    "\n",
    "---\n",
    "\n",
    "## **🎯 Summary: Key Takeaways**\n",
    "| Feature | Method 1 (Manual Separation) | Method 2 (Anomaly Score & Threshold) |\n",
    "|---------|------------------------------|--------------------------------------|\n",
    "| Outlier Detection | Uses `fit_predict()` (`-1` & `1`) | Uses `decision_function()` (Anomaly Score) |\n",
    "| Threshold | None (Uses raw labels) | Custom threshold to refine anomalies |\n",
    "| Flexibility | Less flexible | More control over detection |\n",
    "| Performance Metrics | No evaluation | Accuracy, Precision, Recall, F1-score |\n",
    "\n",
    "✅ **Method 2** is more **flexible and tunable** for anomaly detection.  "
   ]
  }
 ],
 "metadata": {
  "colab": {
   "provenance": []
  },
  "kernelspec": {
   "display_name": "Python 3 (ipykernel)",
   "language": "python",
   "name": "python3"
  },
  "language_info": {
   "codemirror_mode": {
    "name": "ipython",
    "version": 3
   },
   "file_extension": ".py",
   "mimetype": "text/x-python",
   "name": "python",
   "nbconvert_exporter": "python",
   "pygments_lexer": "ipython3",
   "version": "3.10.11"
  }
 },
 "nbformat": 4,
 "nbformat_minor": 5
}
